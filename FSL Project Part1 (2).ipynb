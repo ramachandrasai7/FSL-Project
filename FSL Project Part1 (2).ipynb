{
 "cells": [
  {
   "cell_type": "code",
   "execution_count": 60,
   "id": "29ae4afb",
   "metadata": {},
   "outputs": [],
   "source": [
    "import scipy.io\n",
    "import numpy as np"
   ]
  },
  {
   "cell_type": "code",
   "execution_count": null,
   "id": "45e71357",
   "metadata": {},
   "outputs": [],
   "source": []
  },
  {
   "cell_type": "code",
   "execution_count": null,
   "id": "b079019d",
   "metadata": {},
   "outputs": [],
   "source": []
  },
  {
   "cell_type": "code",
   "execution_count": 61,
   "id": "439c0b12",
   "metadata": {},
   "outputs": [],
   "source": [
    "traindata=scipy.io.loadmat(\"train_data.mat\")\n",
    "testdata=scipy.io.loadmat(\"test_data.mat\")"
   ]
  },
  {
   "cell_type": "code",
   "execution_count": 62,
   "id": "f39783ce",
   "metadata": {},
   "outputs": [
    {
     "data": {
      "text/plain": [
       "array([[3, 3, 3, ..., 7, 7, 7]], dtype=int64)"
      ]
     },
     "execution_count": 62,
     "metadata": {},
     "output_type": "execute_result"
    }
   ],
   "source": [
    "traindata['label']"
   ]
  },
  {
   "cell_type": "code",
   "execution_count": 63,
   "id": "33c94a62",
   "metadata": {
    "scrolled": false
   },
   "outputs": [],
   "source": [
    "# traindatafalltened=traindata\n",
    "def flattening():\n",
    "    l=[]\n",
    "    for i in traindata['data']:\n",
    "        i=i.flatten()\n",
    "        l.append(i)\n",
    "    traindata['data']=np.array(l)\n",
    "    l=[]\n",
    "    for i in testdata['data']:\n",
    "        i=i.flatten()\n",
    "        l.append(i)\n",
    "    testdata['data']=np.array(l)"
   ]
  },
  {
   "cell_type": "code",
   "execution_count": 64,
   "id": "0ab1f9dc",
   "metadata": {},
   "outputs": [],
   "source": [
    "flattening()"
   ]
  },
  {
   "cell_type": "code",
   "execution_count": 65,
   "id": "05d3480d",
   "metadata": {},
   "outputs": [],
   "source": [
    "def skewvectorCalc(data):\n",
    "    skewvector=[]\n",
    "    for i in data:\n",
    "        mean=np.mean(i)\n",
    "        standardDeviation =np.std(i)\n",
    "        sdcube=pow(standardDeviation,3)\n",
    "        N=len(i)\n",
    "        a=0\n",
    "        for j in i:\n",
    "            a+=pow(j-mean,3)\n",
    "        a/=N\n",
    "        a/=sdcube\n",
    "        skewvector.append(a)\n",
    "    return skewvector"
   ]
  },
  {
   "cell_type": "code",
   "execution_count": 66,
   "id": "ceb12bb5",
   "metadata": {},
   "outputs": [],
   "source": [
    "def brightToDarkPixelRatio(array,threshold):\n",
    "    brightdarkratio=[]\n",
    "    for a in array:\n",
    "        n=len(a)\n",
    "        lenofbright=len([i for i in a if i>threshold])\n",
    "        brightdarkratio.append(lenofbright/(n-lenofbright))\n",
    "        \n",
    "    return brightdarkratio\n",
    "\n",
    "        "
   ]
  },
  {
   "cell_type": "code",
   "execution_count": 67,
   "id": "88a15a8d",
   "metadata": {},
   "outputs": [],
   "source": [
    "def skewBtoD_threshold_and_Nomralized(T):\n",
    "    #SkewVecotor and Bright to Dark Ration Train and Test\n",
    "    skewvectortrain=skewvectorCalc(traindata['data'])\n",
    "    btodratiotrain=brightToDarkPixelRatio(traindata['data'],T)\n",
    "    skewvectortest=skewvectorCalc(testdata['data'])\n",
    "    btodratiotest=brightToDarkPixelRatio(testdata['data'],T)\n",
    "    #Caluculation of Mean Variance in Train \n",
    "    skewnormalmean=np.mean(skewvectortrain)\n",
    "    skewnormalstd=np.std(skewvectortrain)\n",
    "    btodtnormalmean=np.mean(btodratiotrain)\n",
    "    btodnormalstd=np.std(btodratiotrain)\n",
    "    #Normalized Both Train and Test\n",
    "    skewvectortrain=(skewvectortrain-skewnormalmean)/skewnormalstd\n",
    "    btodratiotrain=(btodratiotrain-btodtnormalmean)/btodnormalstd\n",
    "    skewvectortest=(skewvectortest-skewnormalmean)/skewnormalstd\n",
    "    btodratiotest=(btodratiotest-btodtnormalmean)/btodnormalstd\n",
    "    # Making a Matrix from Skewvector and Bright to dark ratio in train and test\n",
    "    newtraindata=np.stack([skewvectortrain,btodratiotrain],axis=1)\n",
    "    newtestdata=np.stack([skewvectortest,btodratiotest],axis=1)\n",
    "    return newtraindata,newtestdata"
   ]
  },
  {
   "cell_type": "code",
   "execution_count": 68,
   "id": "285d14e5",
   "metadata": {},
   "outputs": [],
   "source": [
    "def fetching_Disturbution_of_3_and_7(newtraindata):\n",
    "    #For Number 3\n",
    "    number_3_train_data=[]\n",
    "    number_7_train_data=[]\n",
    "    for i in range(0,len(newtraindata)):\n",
    "        if traindata['label'][0][i]==3:\n",
    "            number_3_train_data.append(newtraindata[i])\n",
    "        if traindata['label'][0][i]==7:\n",
    "            number_7_train_data.append(newtraindata[i])\n",
    "    number_3_train_data=np.array(number_3_train_data)\n",
    "    number_7_train_data=np.array(number_7_train_data)\n",
    "    return number_3_train_data,number_7_train_data"
   ]
  },
  {
   "cell_type": "code",
   "execution_count": 69,
   "id": "dd64d0f2",
   "metadata": {},
   "outputs": [],
   "source": [
    "def MLE_Estimation_Parameters_Mean_and_Variance(number_3_train_data,number_7_train_data):\n",
    "    number_3_mean=np.mean(number_3_train_data,axis=0)\n",
    "    number_3_covariance=np.cov(number_3_train_data[:,0],number_3_train_data[:,1])\n",
    "    number_7_mean=np.mean(number_7_train_data,axis=0)\n",
    "    number_7_covariance=np.cov(number_7_train_data[:,0],number_7_train_data[:,1])\n",
    "    return number_3_mean,number_3_covariance,number_7_mean,number_7_covariance"
   ]
  },
  {
   "cell_type": "code",
   "execution_count": 70,
   "id": "0ffe97f1",
   "metadata": {},
   "outputs": [],
   "source": [
    "def valueNormalDistrub(vector,mean,covariance,dimensions):\n",
    "    vector=vector-mean\n",
    "    a=1/((2*np.pi)**(dimensions/2)*(np.linalg.det(covariance)**(0.5)))\n",
    "    b=(-1/2)*np.matmul(np.transpose(vector),np.matmul(np.linalg.inv(covariance),vector))\n",
    "    b=np.exp(b)\n",
    "    return a*b\n"
   ]
  },
  {
   "cell_type": "code",
   "execution_count": 71,
   "id": "579fba8c",
   "metadata": {},
   "outputs": [],
   "source": [
    "def ComputeBayesianError(prior1,prior2,mean1,mean2,covariance1,covariance2,data):\n",
    "    Errorval=[]\n",
    "    for i in range(0,len(data)):\n",
    "        p1=valueNormalDistrub(data[i],mean1,covariance1,2)\n",
    "        p2=valueNormalDistrub(data[i],mean2,covariance2,2)\n",
    "        p1=prior1*p1\n",
    "        p2=prior2*p2\n",
    "        evidence=p1+p2\n",
    "        pval1=p1/evidence\n",
    "        pval2=p2/evidence\n",
    "\n",
    "        if(pval1>pval2):\n",
    "            Errorval.append(pval2)\n",
    "        else:\n",
    "            Errorval.append(pval1)\n",
    "    return np.array(Errorval)"
   ]
  },
  {
   "cell_type": "code",
   "execution_count": 74,
   "id": "981b13b3",
   "metadata": {},
   "outputs": [
    {
     "name": "stdout",
     "output_type": "stream",
     "text": [
      " Threshold : 150 number_3_mean : [-0.37951983  0.35854635] number_3_covariance : [[ 0.8437565  -0.91737529]\n",
      " [-0.91737529  1.10355626]] number_7_mean :[ 0.37158471 -0.35104975] number_7_covariance: [[ 0.87417217 -0.72010492]\n",
      " [-0.72010492  0.64980588]]\n",
      " Threshold : 150 prior1 : 0.5 prior2: 0.5 Train BayesianError 0.31409709381432627\n",
      " Threshold : 150 prior1 : 0.5 prior2: 0.5 Test BayesianError 0.30647387097742845\n",
      " Threshold : 150 prior1 : 0.3 prior2: 0.7 Train BayesianError 0.22237422922954495\n",
      " Threshold : 150 prior1 : 0.3 prior2: 0.7 Test BayesianError 0.22088605489469224\n",
      " Threshold : 200 number_3_mean : [-0.37951983  0.30674367] number_3_covariance : [[ 0.8437565  -0.91624532]\n",
      " [-0.91624532  1.136679  ]] number_7_mean :[ 0.37158471 -0.30033017] number_7_covariance: [[ 0.87417217 -0.72986478]\n",
      " [-0.72986478  0.68416819]]\n",
      " Threshold : 200 prior1 : 0.5 prior2: 0.5 Train BayesianError 0.30569370083304287\n",
      " Threshold : 200 prior1 : 0.5 prior2: 0.5 Test BayesianError 0.3013463267107516\n",
      " Threshold : 200 prior1 : 0.3 prior2: 0.7 Train BayesianError 0.25196358680103814\n",
      " Threshold : 200 prior1 : 0.3 prior2: 0.7 Test BayesianError 0.2539460350502862\n"
     ]
    }
   ],
   "source": [
    "Thresholds=[150,200]\n",
    "for t in Thresholds:\n",
    "    newtraindata,newtestdata=skewBtoD_threshold_and_Nomralized(t)\n",
    "    number_3_train_data,number_7_train_data=fetching_Disturbution_of_3_and_7(newtraindata)\n",
    "    number_3_mean,number_3_covariance,number_7_mean,number_7_covariance=MLE_Estimation_Parameters_Mean_and_Variance(number_3_train_data,number_7_train_data)    \n",
    "    print(\" Threshold : \"+str(t)+\" number_3_mean : \"+str(number_3_mean)+\" number_3_covariance : \"+str(number_3_covariance)+\" number_7_mean :\"+str(number_7_mean)+\" number_7_covariance: \"+str(number_7_covariance))\n",
    "    priors=[[0.5,0.5],[0.3,0.7]]\n",
    "    for p in priors:\n",
    "        p1=p[0]\n",
    "        p2=p[1]\n",
    "        trainerror=ComputeBayesianError(p1,p2,number_3_mean,number_7_mean,number_3_covariance,number_7_covariance,newtraindata)\n",
    "\n",
    "        testerror=ComputeBayesianError(p1,p2,number_3_mean,number_7_mean,number_3_covariance,number_7_covariance,newtestdata)\n",
    "        print(\" Threshold : \"+str(t)+\" prior1 : \"+str(p1)+\" prior2: \"+str(p2)+\" Train BayesianError \"+str(np.mean(trainerror)))\n",
    "        print(\" Threshold : \"+str(t)+\" prior1 : \"+str(p1)+\" prior2: \"+str(p2)+\" Test BayesianError \"+str(np.mean(testerror)))"
   ]
  },
  {
   "cell_type": "raw",
   "id": "b383e17d",
   "metadata": {},
   "source": []
  },
  {
   "cell_type": "code",
   "execution_count": null,
   "id": "137d383d",
   "metadata": {},
   "outputs": [],
   "source": []
  },
  {
   "cell_type": "code",
   "execution_count": null,
   "id": "b3dc4ba2",
   "metadata": {},
   "outputs": [],
   "source": []
  },
  {
   "cell_type": "code",
   "execution_count": null,
   "id": "7fdbcb55",
   "metadata": {},
   "outputs": [],
   "source": []
  },
  {
   "cell_type": "code",
   "execution_count": null,
   "id": "f50a4e5e",
   "metadata": {},
   "outputs": [],
   "source": []
  },
  {
   "cell_type": "code",
   "execution_count": null,
   "id": "db5ce7f5",
   "metadata": {},
   "outputs": [],
   "source": []
  },
  {
   "cell_type": "code",
   "execution_count": null,
   "id": "f90e501f",
   "metadata": {},
   "outputs": [],
   "source": []
  },
  {
   "cell_type": "code",
   "execution_count": null,
   "id": "35172d18",
   "metadata": {},
   "outputs": [],
   "source": [
    "    "
   ]
  },
  {
   "cell_type": "code",
   "execution_count": null,
   "id": "2c4f538c",
   "metadata": {},
   "outputs": [],
   "source": [
    "    "
   ]
  },
  {
   "cell_type": "code",
   "execution_count": null,
   "id": "f0bffda2",
   "metadata": {},
   "outputs": [],
   "source": []
  },
  {
   "cell_type": "code",
   "execution_count": null,
   "id": "03df2e10",
   "metadata": {},
   "outputs": [],
   "source": []
  },
  {
   "cell_type": "code",
   "execution_count": null,
   "id": "3f6483a2",
   "metadata": {},
   "outputs": [],
   "source": []
  },
  {
   "cell_type": "code",
   "execution_count": null,
   "id": "27a6931c",
   "metadata": {},
   "outputs": [],
   "source": []
  },
  {
   "cell_type": "code",
   "execution_count": null,
   "id": "5ed645f6",
   "metadata": {},
   "outputs": [],
   "source": []
  },
  {
   "cell_type": "code",
   "execution_count": null,
   "id": "e6d404de",
   "metadata": {},
   "outputs": [],
   "source": []
  },
  {
   "cell_type": "code",
   "execution_count": null,
   "id": "d82cf253",
   "metadata": {},
   "outputs": [],
   "source": []
  }
 ],
 "metadata": {
  "kernelspec": {
   "display_name": "Python 3 (ipykernel)",
   "language": "python",
   "name": "python3"
  },
  "language_info": {
   "codemirror_mode": {
    "name": "ipython",
    "version": 3
   },
   "file_extension": ".py",
   "mimetype": "text/x-python",
   "name": "python",
   "nbconvert_exporter": "python",
   "pygments_lexer": "ipython3",
   "version": "3.7.6"
  }
 },
 "nbformat": 4,
 "nbformat_minor": 5
}
